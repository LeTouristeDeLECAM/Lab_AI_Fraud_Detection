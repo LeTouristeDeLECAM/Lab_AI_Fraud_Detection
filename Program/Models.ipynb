{
 "cells": [
  {
   "attachments": {},
   "cell_type": "markdown",
   "metadata": {},
   "source": [
    "# I. Models\n",
    "## 1. Undersamlping \n",
    "- Random undersampling : EasyEnsembleClassifier using GradientBoostingClassifier\n",
    "- Random undersampling : EasyEnsembleClassifier using adaboost classifier\n",
    "- Random undersampling : EasyEnsembleClassifier using gradientboosting classifier\n",
    "\n"
   ]
  },
  {
   "cell_type": "code",
   "execution_count": 55,
   "metadata": {},
   "outputs": [
    {
     "name": "stdout",
     "output_type": "stream",
     "text": [
      "(95662, 16)\n"
     ]
    },
    {
     "data": {
      "text/html": [
       "<div>\n",
       "<style scoped>\n",
       "    .dataframe tbody tr th:only-of-type {\n",
       "        vertical-align: middle;\n",
       "    }\n",
       "\n",
       "    .dataframe tbody tr th {\n",
       "        vertical-align: top;\n",
       "    }\n",
       "\n",
       "    .dataframe thead th {\n",
       "        text-align: right;\n",
       "    }\n",
       "</style>\n",
       "<table border=\"1\" class=\"dataframe\">\n",
       "  <thead>\n",
       "    <tr style=\"text-align: right;\">\n",
       "      <th></th>\n",
       "      <th>Value</th>\n",
       "      <th>ProviderId_3</th>\n",
       "      <th>ProviderId_5</th>\n",
       "      <th>ProviderId_1</th>\n",
       "      <th>ProductCategory_utility_bill</th>\n",
       "      <th>ProductCategory_financial_services</th>\n",
       "      <th>ChannelId_3</th>\n",
       "      <th>Hour_3</th>\n",
       "      <th>Hour_4</th>\n",
       "      <th>ChannelId_1</th>\n",
       "      <th>PricingStrategy_4</th>\n",
       "      <th>SubscriptionId</th>\n",
       "      <th>ProductCategory_transport</th>\n",
       "      <th>AccountId</th>\n",
       "      <th>PricingStrategy_0</th>\n",
       "      <th>Fraud</th>\n",
       "    </tr>\n",
       "  </thead>\n",
       "  <tbody>\n",
       "    <tr>\n",
       "      <th>0</th>\n",
       "      <td>1000</td>\n",
       "      <td>0</td>\n",
       "      <td>0</td>\n",
       "      <td>0</td>\n",
       "      <td>0</td>\n",
       "      <td>0</td>\n",
       "      <td>1</td>\n",
       "      <td>0</td>\n",
       "      <td>1</td>\n",
       "      <td>0</td>\n",
       "      <td>0</td>\n",
       "      <td>887</td>\n",
       "      <td>0</td>\n",
       "      <td>3957</td>\n",
       "      <td>0</td>\n",
       "      <td>0</td>\n",
       "    </tr>\n",
       "    <tr>\n",
       "      <th>1</th>\n",
       "      <td>20</td>\n",
       "      <td>0</td>\n",
       "      <td>0</td>\n",
       "      <td>0</td>\n",
       "      <td>0</td>\n",
       "      <td>1</td>\n",
       "      <td>0</td>\n",
       "      <td>0</td>\n",
       "      <td>1</td>\n",
       "      <td>0</td>\n",
       "      <td>0</td>\n",
       "      <td>3829</td>\n",
       "      <td>0</td>\n",
       "      <td>4841</td>\n",
       "      <td>0</td>\n",
       "      <td>0</td>\n",
       "    </tr>\n",
       "    <tr>\n",
       "      <th>2</th>\n",
       "      <td>500</td>\n",
       "      <td>0</td>\n",
       "      <td>0</td>\n",
       "      <td>0</td>\n",
       "      <td>0</td>\n",
       "      <td>0</td>\n",
       "      <td>1</td>\n",
       "      <td>0</td>\n",
       "      <td>1</td>\n",
       "      <td>0</td>\n",
       "      <td>0</td>\n",
       "      <td>222</td>\n",
       "      <td>0</td>\n",
       "      <td>4229</td>\n",
       "      <td>0</td>\n",
       "      <td>0</td>\n",
       "    </tr>\n",
       "    <tr>\n",
       "      <th>3</th>\n",
       "      <td>21800</td>\n",
       "      <td>0</td>\n",
       "      <td>0</td>\n",
       "      <td>1</td>\n",
       "      <td>1</td>\n",
       "      <td>0</td>\n",
       "      <td>1</td>\n",
       "      <td>0</td>\n",
       "      <td>1</td>\n",
       "      <td>0</td>\n",
       "      <td>0</td>\n",
       "      <td>2185</td>\n",
       "      <td>0</td>\n",
       "      <td>648</td>\n",
       "      <td>0</td>\n",
       "      <td>0</td>\n",
       "    </tr>\n",
       "    <tr>\n",
       "      <th>4</th>\n",
       "      <td>644</td>\n",
       "      <td>0</td>\n",
       "      <td>0</td>\n",
       "      <td>0</td>\n",
       "      <td>0</td>\n",
       "      <td>1</td>\n",
       "      <td>0</td>\n",
       "      <td>0</td>\n",
       "      <td>1</td>\n",
       "      <td>0</td>\n",
       "      <td>0</td>\n",
       "      <td>3829</td>\n",
       "      <td>0</td>\n",
       "      <td>4841</td>\n",
       "      <td>0</td>\n",
       "      <td>0</td>\n",
       "    </tr>\n",
       "  </tbody>\n",
       "</table>\n",
       "</div>"
      ],
      "text/plain": [
       "   Value  ProviderId_3  ProviderId_5  ProviderId_1  \\\n",
       "0   1000             0             0             0   \n",
       "1     20             0             0             0   \n",
       "2    500             0             0             0   \n",
       "3  21800             0             0             1   \n",
       "4    644             0             0             0   \n",
       "\n",
       "   ProductCategory_utility_bill  ProductCategory_financial_services  \\\n",
       "0                             0                                   0   \n",
       "1                             0                                   1   \n",
       "2                             0                                   0   \n",
       "3                             1                                   0   \n",
       "4                             0                                   1   \n",
       "\n",
       "   ChannelId_3  Hour_3  Hour_4  ChannelId_1  PricingStrategy_4  \\\n",
       "0            1       0       1            0                  0   \n",
       "1            0       0       1            0                  0   \n",
       "2            1       0       1            0                  0   \n",
       "3            1       0       1            0                  0   \n",
       "4            0       0       1            0                  0   \n",
       "\n",
       "   SubscriptionId  ProductCategory_transport  AccountId  PricingStrategy_0  \\\n",
       "0             887                          0       3957                  0   \n",
       "1            3829                          0       4841                  0   \n",
       "2             222                          0       4229                  0   \n",
       "3            2185                          0        648                  0   \n",
       "4            3829                          0       4841                  0   \n",
       "\n",
       "   Fraud  \n",
       "0      0  \n",
       "1      0  \n",
       "2      0  \n",
       "3      0  \n",
       "4      0  "
      ]
     },
     "execution_count": 55,
     "metadata": {},
     "output_type": "execute_result"
    }
   ],
   "source": [
    "import pandas as pd\n",
    "import numpy as np\n",
    "import matplotlib.pyplot as plt\n",
    "\n",
    "#import Data\n",
    "df = pd.read_csv('../../Data/training_clean.csv')\n",
    "\n",
    "# shape of data\n",
    "print(df.shape)\n",
    "df.head()"
   ]
  },
  {
   "cell_type": "code",
   "execution_count": 56,
   "metadata": {},
   "outputs": [
    {
     "name": "stdout",
     "output_type": "stream",
     "text": [
      "RangeIndex(start=0, stop=95662, step=1)\n"
     ]
    }
   ],
   "source": [
    "print(df.index)"
   ]
  },
  {
   "cell_type": "code",
   "execution_count": 57,
   "metadata": {},
   "outputs": [],
   "source": [
    "# split data into train and test\n",
    "from sklearn.model_selection import train_test_split\n",
    "X = df.drop(['Fraud'], axis=1)\n",
    "y = df['Fraud']\n",
    "X_train, X_test, y_train, y_test = train_test_split(X, y, test_size=0.2, random_state=42)"
   ]
  },
  {
   "cell_type": "code",
   "execution_count": 58,
   "metadata": {},
   "outputs": [
    {
     "name": "stdout",
     "output_type": "stream",
     "text": [
      "Number of fraud and not fraud cases in training data: \n",
      " 0    76372\n",
      "1      157\n",
      "Name: Fraud, dtype: int64\n",
      "Number of fraud and not fraud cases in test data: \n",
      " 0    19097\n",
      "1       36\n",
      "Name: Fraud, dtype: int64\n"
     ]
    }
   ],
   "source": [
    "# find the number of fraud and non-fraud cases in the training data\n",
    "print('Number of fraud and not fraud cases in training data: \\n', y_train.value_counts())\n",
    "print('Number of fraud and not fraud cases in test data: \\n', y_test.value_counts())"
   ]
  },
  {
   "cell_type": "code",
   "execution_count": 59,
   "metadata": {},
   "outputs": [],
   "source": [
    "## import EasyEnsembleClassifier\n",
    "from imblearn.ensemble import EasyEnsembleClassifier\n",
    "# import AdaBoostClassifier\n",
    "from sklearn.ensemble import AdaBoostClassifier\n",
    "from sklearn.ensemble import GradientBoostingClassifier\n",
    "from sklearn.ensemble import RandomForestClassifier\n",
    "from sklearn.metrics import classification_report, confusion_matrix\n"
   ]
  },
  {
   "cell_type": "code",
   "execution_count": 60,
   "metadata": {},
   "outputs": [
    {
     "name": "stdout",
     "output_type": "stream",
     "text": [
      "Matrix confusion : \n",
      " [[19095     2]\n",
      " [    1    35]]\n",
      "\n",
      " Classification report : \n",
      "               precision    recall  f1-score   support\n",
      "\n",
      "           0       1.00      1.00      1.00     19097\n",
      "           1       0.95      0.97      0.96        36\n",
      "\n",
      "    accuracy                           1.00     19133\n",
      "   macro avg       0.97      0.99      0.98     19133\n",
      "weighted avg       1.00      1.00      1.00     19133\n",
      "\n"
     ]
    }
   ],
   "source": [
    "\n",
    "# create model EasyEnsembleClassifier using GradientBoostingClassifier\n",
    "eec_GBC = EasyEnsembleClassifier(n_estimators=5, estimator=GradientBoostingClassifier(n_estimators=10), sampling_strategy=0.01 , random_state=42, n_jobs=-1, verbose=0 )\n",
    "eec_GBC.fit(X_train, y_train)\n",
    "\n",
    "# predict\n",
    "y_pred = eec_GBC.predict(X_test)\n",
    "print('Matrix confusion : \\n',confusion_matrix(y_test, y_pred))\n",
    "print('\\n Classification report : \\n',classification_report(y_test, y_pred))"
   ]
  },
  {
   "cell_type": "code",
   "execution_count": 61,
   "metadata": {},
   "outputs": [
    {
     "name": "stdout",
     "output_type": "stream",
     "text": [
      "Matrix confusion : \n",
      " [[19088     9]\n",
      " [    1    35]]\n",
      "\n",
      " Classification report : \n",
      "               precision    recall  f1-score   support\n",
      "\n",
      "           0       1.00      1.00      1.00     19097\n",
      "           1       0.80      0.97      0.88        36\n",
      "\n",
      "    accuracy                           1.00     19133\n",
      "   macro avg       0.90      0.99      0.94     19133\n",
      "weighted avg       1.00      1.00      1.00     19133\n",
      "\n"
     ]
    }
   ],
   "source": [
    "# create model EasyEnsembleClassifier using AdaBoostClassifier\n",
    "eec_Ada = EasyEnsembleClassifier(n_estimators=10, estimator=AdaBoostClassifier(n_estimators=10), sampling_strategy=0.01 , random_state=42, n_jobs=-1, verbose=0)\n",
    "eec_Ada.fit(X_train, y_train)\n",
    "\n",
    "# predict\n",
    "y_pred = eec_Ada.predict(X_test)\n",
    "print('Matrix confusion : \\n',confusion_matrix(y_test, y_pred))\n",
    "print('\\n Classification report : \\n',classification_report(y_test, y_pred))"
   ]
  },
  {
   "cell_type": "code",
   "execution_count": 62,
   "metadata": {},
   "outputs": [
    {
     "name": "stdout",
     "output_type": "stream",
     "text": [
      "Matrix confusion : \n",
      " [[19087    10]\n",
      " [    0    36]]\n",
      "\n",
      " Classification report : \n",
      "               precision    recall  f1-score   support\n",
      "\n",
      "           0       1.00      1.00      1.00     19097\n",
      "           1       0.78      1.00      0.88        36\n",
      "\n",
      "    accuracy                           1.00     19133\n",
      "   macro avg       0.89      1.00      0.94     19133\n",
      "weighted avg       1.00      1.00      1.00     19133\n",
      "\n"
     ]
    }
   ],
   "source": [
    "\n",
    "# create model EasyEnsembleClassifier using RandomForestClassifier\n",
    "eec_rfc = EasyEnsembleClassifier(n_estimators=2, estimator=RandomForestClassifier(n_estimators=20 ), sampling_strategy=0.01, random_state=42, n_jobs=-1, verbose=0 )\n",
    "eec_rfc.fit(X_train, y_train)\n",
    "\n",
    "# predict\n",
    "y_pred = eec_rfc.predict(X_test)\n",
    "print('Matrix confusion : \\n',confusion_matrix(y_test, y_pred))\n",
    "print('\\n Classification report : \\n',classification_report(y_test, y_pred))"
   ]
  },
  {
   "attachments": {},
   "cell_type": "markdown",
   "metadata": {},
   "source": [
    "## 2. Undersampling and Oversampling\n",
    "a) Resample\n",
    "- SMOTEENN : SMOTENC (Categorical and numerical features)+ ENN\n",
    "\n",
    "\n",
    "\n",
    "..."
   ]
  },
  {
   "cell_type": "code",
   "execution_count": 63,
   "metadata": {},
   "outputs": [
    {
     "data": {
      "text/plain": [
       "(76529, 15)"
      ]
     },
     "execution_count": 63,
     "metadata": {},
     "output_type": "execute_result"
    }
   ],
   "source": [
    "X_train.shape"
   ]
  },
  {
   "cell_type": "code",
   "execution_count": 64,
   "metadata": {},
   "outputs": [],
   "source": [
    "#import SMOTENC \n",
    "from imblearn.over_sampling import SMOTENC\n",
    "#import ENN\n",
    "from imblearn.under_sampling import EditedNearestNeighbours\n",
    "\n",
    "#import SMOTEENN\n",
    "from imblearn.combine import SMOTEENN\n",
    "\n",
    "# create over sampling model: SMOTENC\n",
    "\n",
    "# smotenc= SMOTENC(categorical_features=[ 'ProviderId_3', 'ProviderId_5', 'ProviderId_1', 'ProductCategory_utility_bill', 'ProductCategory_financial_services', \n",
    "#                                        'ChannelId_3', 'Hour_3', 'Hour_4', 'ChannelId_1', 'PricingStrategy_4', 'SubscriptionId', 'ProductCategory_transport', \n",
    "#                                        'AccountId', 'PricingStrategy_0'])\n",
    "\n",
    "\n",
    "smotenc= SMOTENC(categorical_features=[1, 2, 3, 4, 5, 6, 7, 8, 9, 10,11,12,13, 14])\n",
    "\n",
    "\n",
    "# create under sampling model :  ENN\n",
    "# enn_model = EditedNearestNeighbours(sampling_strategy=\"auto\", n_neighbors=3, kind_sel='all',n_jobs=-1)\n",
    "\n",
    "# smotenc_enn = SMOTEENN(sampling_strategy='not minority', smote=smotenc, enn=enn_model, n_jobs=-1)\n",
    "\n",
    "\n"
   ]
  },
  {
   "attachments": {},
   "cell_type": "markdown",
   "metadata": {},
   "source": [
    "## 2. Undersampling and Oversampling\n",
    "a) Resample\n",
    "\n",
    "- RandomUnderSampler + SMOTEENN "
   ]
  },
  {
   "cell_type": "code",
   "execution_count": 65,
   "metadata": {},
   "outputs": [
    {
     "name": "stdout",
     "output_type": "stream",
     "text": [
      "0    76372\n",
      "1      157\n",
      "Name: Fraud, dtype: int64\n"
     ]
    }
   ],
   "source": [
    "print (y_train.value_counts())"
   ]
  },
  {
   "cell_type": "code",
   "execution_count": 66,
   "metadata": {},
   "outputs": [],
   "source": [
    "# import randomUnderSampler\n",
    "from imblearn.under_sampling import RandomUnderSampler\n",
    "\n",
    "# create model under sampling \n",
    "rus = RandomUnderSampler(sampling_strategy=0.04, random_state=42)"
   ]
  },
  {
   "cell_type": "code",
   "execution_count": 67,
   "metadata": {},
   "outputs": [],
   "source": [
    "# fit and resample data\n",
    "X_resampled_rus, y_resampled_rus = rus.fit_resample(X_train, y_train)"
   ]
  },
  {
   "cell_type": "code",
   "execution_count": 68,
   "metadata": {},
   "outputs": [
    {
     "name": "stdout",
     "output_type": "stream",
     "text": [
      "value count of undersampled data :  0    3925\n",
      "1     157\n",
      "Name: Fraud, dtype: int64\n",
      "Shape of undersampled data :  (4082, 15)\n"
     ]
    }
   ],
   "source": [
    "print ('value count of undersampled data : ', y_resampled_rus.value_counts())\n",
    "print ('Shape of undersampled data : ', X_resampled_rus.shape)"
   ]
  },
  {
   "cell_type": "code",
   "execution_count": 69,
   "metadata": {},
   "outputs": [],
   "source": [
    "# Oversampling with SMOTENC fit and resample data\n",
    "X_resampled_smotenc, y_resampled_smotenc = smotenc.fit_resample(X_resampled_rus, y_resampled_rus)"
   ]
  },
  {
   "cell_type": "code",
   "execution_count": 70,
   "metadata": {},
   "outputs": [
    {
     "name": "stdout",
     "output_type": "stream",
     "text": [
      "value count of undersampled data :  0    3925\n",
      "1    3925\n",
      "Name: Fraud, dtype: int64\n",
      "Shape of undersampled data :  (7850, 15)\n"
     ]
    }
   ],
   "source": [
    "print ('value count of undersampled data : ', y_resampled_smotenc.value_counts())\n",
    "print ('Shape of undersampled data : ', X_resampled_smotenc.shape)"
   ]
  },
  {
   "attachments": {},
   "cell_type": "markdown",
   "metadata": {},
   "source": [
    "## 2. Undersampling and Oversampling\n",
    "b) Model classifier\n",
    "- random forest classifier"
   ]
  },
  {
   "cell_type": "code",
   "execution_count": 71,
   "metadata": {},
   "outputs": [
    {
     "name": "stdout",
     "output_type": "stream",
     "text": [
      "Matrix confusion : \n",
      " [[19039    58]\n",
      " [    0    36]]\n",
      "\n",
      " Classification report : \n",
      "               precision    recall  f1-score   support\n",
      "\n",
      "           0       1.00      1.00      1.00     19097\n",
      "           1       0.38      1.00      0.55        36\n",
      "\n",
      "    accuracy                           1.00     19133\n",
      "   macro avg       0.69      1.00      0.78     19133\n",
      "weighted avg       1.00      1.00      1.00     19133\n",
      "\n"
     ]
    }
   ],
   "source": [
    "# create model random forest\n",
    "rfc_und_over = RandomForestClassifier(n_estimators=30, random_state=42, n_jobs=-1, verbose=0)\n",
    "\n",
    "# fit and predict\n",
    "rfc_und_over.fit(X_resampled_smotenc, y_resampled_smotenc)\n",
    "y_pred = rfc_und_over.predict(X_test)\n",
    "\n",
    "print('Matrix confusion : \\n',confusion_matrix(y_test, y_pred))\n",
    "print('\\n Classification report : \\n',classification_report(y_test, y_pred))\n"
   ]
  },
  {
   "attachments": {},
   "cell_type": "markdown",
   "metadata": {},
   "source": [
    "# II. Evaluation\n",
    "\n",
    "- Prediction on test set"
   ]
  },
  {
   "cell_type": "code",
   "execution_count": 72,
   "metadata": {},
   "outputs": [
    {
     "data": {
      "text/html": [
       "<div>\n",
       "<style scoped>\n",
       "    .dataframe tbody tr th:only-of-type {\n",
       "        vertical-align: middle;\n",
       "    }\n",
       "\n",
       "    .dataframe tbody tr th {\n",
       "        vertical-align: top;\n",
       "    }\n",
       "\n",
       "    .dataframe thead th {\n",
       "        text-align: right;\n",
       "    }\n",
       "</style>\n",
       "<table border=\"1\" class=\"dataframe\">\n",
       "  <thead>\n",
       "    <tr style=\"text-align: right;\">\n",
       "      <th></th>\n",
       "      <th>Value</th>\n",
       "      <th>ProviderId_3</th>\n",
       "      <th>ProviderId_5</th>\n",
       "      <th>ProviderId_1</th>\n",
       "      <th>ProductCategory_utility_bill</th>\n",
       "      <th>ProductCategory_financial_services</th>\n",
       "      <th>ChannelId_3</th>\n",
       "      <th>Hour_3</th>\n",
       "      <th>Hour_4</th>\n",
       "      <th>ChannelId_1</th>\n",
       "      <th>PricingStrategy_4</th>\n",
       "      <th>SubscriptionId</th>\n",
       "      <th>ProductCategory_transport</th>\n",
       "      <th>AccountId</th>\n",
       "      <th>PricingStrategy_0</th>\n",
       "    </tr>\n",
       "  </thead>\n",
       "  <tbody>\n",
       "    <tr>\n",
       "      <th>0</th>\n",
       "      <td>1000</td>\n",
       "      <td>0</td>\n",
       "      <td>1</td>\n",
       "      <td>0</td>\n",
       "      <td>0</td>\n",
       "      <td>0</td>\n",
       "      <td>1</td>\n",
       "      <td>0</td>\n",
       "      <td>0</td>\n",
       "      <td>0</td>\n",
       "      <td>1</td>\n",
       "      <td>4426</td>\n",
       "      <td>0</td>\n",
       "      <td>2441</td>\n",
       "      <td>0</td>\n",
       "    </tr>\n",
       "    <tr>\n",
       "      <th>1</th>\n",
       "      <td>2000</td>\n",
       "      <td>0</td>\n",
       "      <td>1</td>\n",
       "      <td>0</td>\n",
       "      <td>0</td>\n",
       "      <td>1</td>\n",
       "      <td>1</td>\n",
       "      <td>0</td>\n",
       "      <td>0</td>\n",
       "      <td>0</td>\n",
       "      <td>0</td>\n",
       "      <td>2643</td>\n",
       "      <td>0</td>\n",
       "      <td>3439</td>\n",
       "      <td>0</td>\n",
       "    </tr>\n",
       "    <tr>\n",
       "      <th>2</th>\n",
       "      <td>50</td>\n",
       "      <td>0</td>\n",
       "      <td>0</td>\n",
       "      <td>0</td>\n",
       "      <td>0</td>\n",
       "      <td>1</td>\n",
       "      <td>0</td>\n",
       "      <td>0</td>\n",
       "      <td>0</td>\n",
       "      <td>0</td>\n",
       "      <td>0</td>\n",
       "      <td>3829</td>\n",
       "      <td>0</td>\n",
       "      <td>4841</td>\n",
       "      <td>0</td>\n",
       "    </tr>\n",
       "    <tr>\n",
       "      <th>3</th>\n",
       "      <td>3000</td>\n",
       "      <td>0</td>\n",
       "      <td>1</td>\n",
       "      <td>0</td>\n",
       "      <td>0</td>\n",
       "      <td>0</td>\n",
       "      <td>1</td>\n",
       "      <td>0</td>\n",
       "      <td>0</td>\n",
       "      <td>0</td>\n",
       "      <td>1</td>\n",
       "      <td>4626</td>\n",
       "      <td>0</td>\n",
       "      <td>2685</td>\n",
       "      <td>0</td>\n",
       "    </tr>\n",
       "    <tr>\n",
       "      <th>4</th>\n",
       "      <td>60</td>\n",
       "      <td>0</td>\n",
       "      <td>0</td>\n",
       "      <td>0</td>\n",
       "      <td>0</td>\n",
       "      <td>1</td>\n",
       "      <td>0</td>\n",
       "      <td>0</td>\n",
       "      <td>0</td>\n",
       "      <td>0</td>\n",
       "      <td>0</td>\n",
       "      <td>3829</td>\n",
       "      <td>0</td>\n",
       "      <td>4841</td>\n",
       "      <td>0</td>\n",
       "    </tr>\n",
       "  </tbody>\n",
       "</table>\n",
       "</div>"
      ],
      "text/plain": [
       "   Value  ProviderId_3  ProviderId_5  ProviderId_1  \\\n",
       "0   1000             0             1             0   \n",
       "1   2000             0             1             0   \n",
       "2     50             0             0             0   \n",
       "3   3000             0             1             0   \n",
       "4     60             0             0             0   \n",
       "\n",
       "   ProductCategory_utility_bill  ProductCategory_financial_services  \\\n",
       "0                             0                                   0   \n",
       "1                             0                                   1   \n",
       "2                             0                                   1   \n",
       "3                             0                                   0   \n",
       "4                             0                                   1   \n",
       "\n",
       "   ChannelId_3  Hour_3  Hour_4  ChannelId_1  PricingStrategy_4  \\\n",
       "0            1       0       0            0                  1   \n",
       "1            1       0       0            0                  0   \n",
       "2            0       0       0            0                  0   \n",
       "3            1       0       0            0                  1   \n",
       "4            0       0       0            0                  0   \n",
       "\n",
       "   SubscriptionId  ProductCategory_transport  AccountId  PricingStrategy_0  \n",
       "0            4426                          0       2441                  0  \n",
       "1            2643                          0       3439                  0  \n",
       "2            3829                          0       4841                  0  \n",
       "3            4626                          0       2685                  0  \n",
       "4            3829                          0       4841                  0  "
      ]
     },
     "execution_count": 72,
     "metadata": {},
     "output_type": "execute_result"
    }
   ],
   "source": [
    "#import Data\n",
    "\n",
    "df_test = pd.read_csv('../../Data/test_clean.csv')\n",
    "\n",
    "df_test.head()\n"
   ]
  },
  {
   "cell_type": "code",
   "execution_count": 74,
   "metadata": {},
   "outputs": [
    {
     "name": "stdout",
     "output_type": "stream",
     "text": [
      "[0 0 0 ... 0 0 0]\n",
      "fraud with y_pred_EEC_GBC : 75\n",
      "fraud with y_pred_EEC_Ada : 84\n",
      "fraud with y_pred_EEC_rfc: 99\n",
      "fraud with y_pred_rfc : 255\n"
     ]
    }
   ],
   "source": [
    "# Predictions\n",
    "y_pred_EEC_GBC=eec_GBC.predict(df_test)\n",
    "y_pred_EEC_Ada=eec_Ada.predict(df_test)\n",
    "y_pred_EEC_rfc=eec_rfc.predict(df_test)\n",
    "y_pred_rfc=rfc_und_over.predict(df_test)\n",
    "\n",
    "\n",
    "\n",
    "# show amount of values in y_pred\n",
    "print (y_pred_rfc)\n",
    "#print (y_pred.value_counts())\n",
    "# count the number of values '1' in y_pred\n",
    "print (\"fraud with y_pred_EEC_GBC :\", np.count_nonzero(y_pred_EEC_GBC == 1))\n",
    "print (\"fraud with y_pred_EEC_Ada :\", np.count_nonzero(y_pred_EEC_Ada == 1))\n",
    "print (\"fraud with y_pred_EEC_rfc:\", np.count_nonzero(y_pred_EEC_rfc == 1))\n",
    "print (\"fraud with y_pred_rfc :\", np.count_nonzero(y_pred_rfc == 1))"
   ]
  },
  {
   "attachments": {},
   "cell_type": "markdown",
   "metadata": {},
   "source": []
  },
  {
   "cell_type": "code",
   "execution_count": 75,
   "metadata": {},
   "outputs": [],
   "source": [
    "# create submission file\n",
    "df_test = pd.read_csv('../../Data/test.csv')\n",
    "\n",
    "sample_submission_EEC_GBC = pd.DataFrame(df_test['TransactionId'])\n",
    "sample_submission_EEC_GBC['FraudResult'] = y_pred_EEC_GBC\n",
    "\n",
    "sample_submission_EEC_Ada = pd.DataFrame(df_test['TransactionId'])\n",
    "sample_submission_EEC_Ada['FraudResult'] = y_pred_EEC_Ada\n",
    "\n",
    "sample_submission_EEC_rfc = pd.DataFrame(df_test['TransactionId'])\n",
    "sample_submission_EEC_rfc['FraudResult'] = y_pred_EEC_rfc\n",
    "\n",
    "sample_submission_rfc = pd.DataFrame(df_test['TransactionId'])\n",
    "sample_submission_rfc['FraudResult'] = y_pred_rfc\n"
   ]
  },
  {
   "attachments": {},
   "cell_type": "markdown",
   "metadata": {},
   "source": [
    "# submission files"
   ]
  },
  {
   "cell_type": "code",
   "execution_count": 76,
   "metadata": {},
   "outputs": [],
   "source": [
    "# export submission file\n",
    "sample_submission_EEC_GBC.to_csv('../../Data/submission_EEC_GBC.csv', index=False)\n",
    "sample_submission_EEC_Ada.to_csv('../../Data/submission_EEC_Ada.csv', index=False)\n",
    "sample_submission_EEC_rfc.to_csv('../../Data/submission_EEC_rfc.csv', index=False)\n",
    "sample_submission_rfc.to_csv('../../Data/submission_rfc.csv', index=False)"
   ]
  }
 ],
 "metadata": {
  "kernelspec": {
   "display_name": "base",
   "language": "python",
   "name": "python3"
  },
  "language_info": {
   "codemirror_mode": {
    "name": "ipython",
    "version": 3
   },
   "file_extension": ".py",
   "mimetype": "text/x-python",
   "name": "python",
   "nbconvert_exporter": "python",
   "pygments_lexer": "ipython3",
   "version": "3.7.11"
  },
  "orig_nbformat": 4
 },
 "nbformat": 4,
 "nbformat_minor": 2
}
