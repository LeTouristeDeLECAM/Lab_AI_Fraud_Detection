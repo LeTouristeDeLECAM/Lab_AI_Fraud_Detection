{
 "cells": [
  {
   "attachments": {},
   "cell_type": "markdown",
   "metadata": {},
   "source": [
    "# I. Models\n",
    "## 1. Undersamlping \n",
    "- Random undersampling : EasyEnsembleClassifier using adaboost classifier\n",
    "- Random undersampling : EasyEnsembleClassifier using gradientboosting classifier\n",
    "\n"
   ]
  },
  {
   "cell_type": "code",
   "execution_count": 1,
   "metadata": {},
   "outputs": [
    {
     "name": "stdout",
     "output_type": "stream",
     "text": [
      "(95662, 16)\n"
     ]
    },
    {
     "data": {
      "text/html": [
       "<div>\n",
       "<style scoped>\n",
       "    .dataframe tbody tr th:only-of-type {\n",
       "        vertical-align: middle;\n",
       "    }\n",
       "\n",
       "    .dataframe tbody tr th {\n",
       "        vertical-align: top;\n",
       "    }\n",
       "\n",
       "    .dataframe thead th {\n",
       "        text-align: right;\n",
       "    }\n",
       "</style>\n",
       "<table border=\"1\" class=\"dataframe\">\n",
       "  <thead>\n",
       "    <tr style=\"text-align: right;\">\n",
       "      <th></th>\n",
       "      <th>Value</th>\n",
       "      <th>ProviderId_3</th>\n",
       "      <th>ProviderId_5</th>\n",
       "      <th>ProviderId_1</th>\n",
       "      <th>ProductCategory_utility_bill</th>\n",
       "      <th>ProductCategory_financial_services</th>\n",
       "      <th>ChannelId_3</th>\n",
       "      <th>Hour_3</th>\n",
       "      <th>Hour_4</th>\n",
       "      <th>ChannelId_1</th>\n",
       "      <th>PricingStrategy_4</th>\n",
       "      <th>SubscriptionId</th>\n",
       "      <th>ProductCategory_transport</th>\n",
       "      <th>AccountId</th>\n",
       "      <th>PricingStrategy_0</th>\n",
       "      <th>Fraud</th>\n",
       "    </tr>\n",
       "  </thead>\n",
       "  <tbody>\n",
       "    <tr>\n",
       "      <th>0</th>\n",
       "      <td>1000</td>\n",
       "      <td>0</td>\n",
       "      <td>0</td>\n",
       "      <td>0</td>\n",
       "      <td>0</td>\n",
       "      <td>0</td>\n",
       "      <td>1</td>\n",
       "      <td>0</td>\n",
       "      <td>1</td>\n",
       "      <td>0</td>\n",
       "      <td>0</td>\n",
       "      <td>887</td>\n",
       "      <td>0</td>\n",
       "      <td>3957</td>\n",
       "      <td>0</td>\n",
       "      <td>0</td>\n",
       "    </tr>\n",
       "    <tr>\n",
       "      <th>1</th>\n",
       "      <td>20</td>\n",
       "      <td>0</td>\n",
       "      <td>0</td>\n",
       "      <td>0</td>\n",
       "      <td>0</td>\n",
       "      <td>1</td>\n",
       "      <td>0</td>\n",
       "      <td>0</td>\n",
       "      <td>1</td>\n",
       "      <td>0</td>\n",
       "      <td>0</td>\n",
       "      <td>3829</td>\n",
       "      <td>0</td>\n",
       "      <td>4841</td>\n",
       "      <td>0</td>\n",
       "      <td>0</td>\n",
       "    </tr>\n",
       "    <tr>\n",
       "      <th>2</th>\n",
       "      <td>500</td>\n",
       "      <td>0</td>\n",
       "      <td>0</td>\n",
       "      <td>0</td>\n",
       "      <td>0</td>\n",
       "      <td>0</td>\n",
       "      <td>1</td>\n",
       "      <td>0</td>\n",
       "      <td>1</td>\n",
       "      <td>0</td>\n",
       "      <td>0</td>\n",
       "      <td>222</td>\n",
       "      <td>0</td>\n",
       "      <td>4229</td>\n",
       "      <td>0</td>\n",
       "      <td>0</td>\n",
       "    </tr>\n",
       "    <tr>\n",
       "      <th>3</th>\n",
       "      <td>21800</td>\n",
       "      <td>0</td>\n",
       "      <td>0</td>\n",
       "      <td>1</td>\n",
       "      <td>1</td>\n",
       "      <td>0</td>\n",
       "      <td>1</td>\n",
       "      <td>0</td>\n",
       "      <td>1</td>\n",
       "      <td>0</td>\n",
       "      <td>0</td>\n",
       "      <td>2185</td>\n",
       "      <td>0</td>\n",
       "      <td>648</td>\n",
       "      <td>0</td>\n",
       "      <td>0</td>\n",
       "    </tr>\n",
       "    <tr>\n",
       "      <th>4</th>\n",
       "      <td>644</td>\n",
       "      <td>0</td>\n",
       "      <td>0</td>\n",
       "      <td>0</td>\n",
       "      <td>0</td>\n",
       "      <td>1</td>\n",
       "      <td>0</td>\n",
       "      <td>0</td>\n",
       "      <td>1</td>\n",
       "      <td>0</td>\n",
       "      <td>0</td>\n",
       "      <td>3829</td>\n",
       "      <td>0</td>\n",
       "      <td>4841</td>\n",
       "      <td>0</td>\n",
       "      <td>0</td>\n",
       "    </tr>\n",
       "  </tbody>\n",
       "</table>\n",
       "</div>"
      ],
      "text/plain": [
       "   Value  ProviderId_3  ProviderId_5  ProviderId_1  \\\n",
       "0   1000             0             0             0   \n",
       "1     20             0             0             0   \n",
       "2    500             0             0             0   \n",
       "3  21800             0             0             1   \n",
       "4    644             0             0             0   \n",
       "\n",
       "   ProductCategory_utility_bill  ProductCategory_financial_services  \\\n",
       "0                             0                                   0   \n",
       "1                             0                                   1   \n",
       "2                             0                                   0   \n",
       "3                             1                                   0   \n",
       "4                             0                                   1   \n",
       "\n",
       "   ChannelId_3  Hour_3  Hour_4  ChannelId_1  PricingStrategy_4  \\\n",
       "0            1       0       1            0                  0   \n",
       "1            0       0       1            0                  0   \n",
       "2            1       0       1            0                  0   \n",
       "3            1       0       1            0                  0   \n",
       "4            0       0       1            0                  0   \n",
       "\n",
       "   SubscriptionId  ProductCategory_transport  AccountId  PricingStrategy_0  \\\n",
       "0             887                          0       3957                  0   \n",
       "1            3829                          0       4841                  0   \n",
       "2             222                          0       4229                  0   \n",
       "3            2185                          0        648                  0   \n",
       "4            3829                          0       4841                  0   \n",
       "\n",
       "   Fraud  \n",
       "0      0  \n",
       "1      0  \n",
       "2      0  \n",
       "3      0  \n",
       "4      0  "
      ]
     },
     "execution_count": 1,
     "metadata": {},
     "output_type": "execute_result"
    }
   ],
   "source": [
    "import pandas as pd\n",
    "import numpy as np\n",
    "import matplotlib.pyplot as plt\n",
    "\n",
    "#import Data\n",
    "df = pd.read_csv('../../Data/training_clean.csv')\n",
    "\n",
    "# shape of data\n",
    "print(df.shape)\n",
    "df.head()"
   ]
  },
  {
   "cell_type": "code",
   "execution_count": 2,
   "metadata": {},
   "outputs": [
    {
     "name": "stdout",
     "output_type": "stream",
     "text": [
      "RangeIndex(start=0, stop=95662, step=1)\n"
     ]
    }
   ],
   "source": [
    "print(df.index)"
   ]
  },
  {
   "cell_type": "code",
   "execution_count": 3,
   "metadata": {},
   "outputs": [],
   "source": [
    "# split data into train and test\n",
    "from sklearn.model_selection import train_test_split\n",
    "X = df.drop(['Fraud'], axis=1)\n",
    "y = df['Fraud']\n",
    "X_train, X_test, y_train, y_test = train_test_split(X, y, test_size=0.2, random_state=42)"
   ]
  },
  {
   "cell_type": "code",
   "execution_count": 4,
   "metadata": {},
   "outputs": [
    {
     "name": "stdout",
     "output_type": "stream",
     "text": [
      "Number of fraud and not fraud cases in training data: \n",
      " 0    76372\n",
      "1      157\n",
      "Name: Fraud, dtype: int64\n",
      "Number of fraud and not fraud cases in test data: \n",
      " 0    19097\n",
      "1       36\n",
      "Name: Fraud, dtype: int64\n"
     ]
    }
   ],
   "source": [
    "# find the number of fraud and non-fraud cases in the training data\n",
    "print('Number of fraud and not fraud cases in training data: \\n', y_train.value_counts())\n",
    "print('Number of fraud and not fraud cases in test data: \\n', y_test.value_counts())\n",
    "\n"
   ]
  },
  {
   "cell_type": "code",
   "execution_count": 5,
   "metadata": {},
   "outputs": [
    {
     "name": "stdout",
     "output_type": "stream",
     "text": [
      "Matrix confusion : \n",
      " [[18813   284]\n",
      " [    0    36]]\n",
      "\n",
      " Classification report : \n",
      "               precision    recall  f1-score   support\n",
      "\n",
      "           0       1.00      0.99      0.99     19097\n",
      "           1       0.11      1.00      0.20        36\n",
      "\n",
      "    accuracy                           0.99     19133\n",
      "   macro avg       0.56      0.99      0.60     19133\n",
      "weighted avg       1.00      0.99      0.99     19133\n",
      "\n"
     ]
    }
   ],
   "source": [
    "## import EasyEnsembleClassifier\n",
    "from imblearn.ensemble import EasyEnsembleClassifier\n",
    "# import AdaBoostClassifier\n",
    "from sklearn.ensemble import AdaBoostClassifier\n",
    "\n",
    "from sklearn.metrics import classification_report, confusion_matrix, f1_score\n",
    "\n",
    "# create model\n",
    "eec = EasyEnsembleClassifier(n_estimators=20, estimator=AdaBoostClassifier() , random_state=42, n_jobs=-1, verbose=0)\n",
    "eec.fit(X_train, y_train)\n",
    "\n",
    "# predict\n",
    "y_pred = eec.predict(X_test)\n",
    "print('Matrix confusion : \\n',confusion_matrix(y_test, y_pred))\n",
    "print('\\n Classification report : \\n',classification_report(y_test, y_pred))"
   ]
  },
  {
   "cell_type": "code",
   "execution_count": 6,
   "metadata": {},
   "outputs": [
    {
     "name": "stdout",
     "output_type": "stream",
     "text": [
      "Matrix confusion : \n",
      " [[18817   280]\n",
      " [    0    36]]\n",
      "\n",
      " Classification report : \n",
      "               precision    recall  f1-score   support\n",
      "\n",
      "           0       1.00      0.99      0.99     19097\n",
      "           1       0.11      1.00      0.20        36\n",
      "\n",
      "    accuracy                           0.99     19133\n",
      "   macro avg       0.56      0.99      0.60     19133\n",
      "weighted avg       1.00      0.99      0.99     19133\n",
      "\n"
     ]
    }
   ],
   "source": [
    "from sklearn.ensemble import GradientBoostingClassifier\n",
    "# create model\n",
    "eec = EasyEnsembleClassifier(n_estimators=50, estimator=GradientBoostingClassifier() , random_state=42, n_jobs=-1, verbose=0 )\n",
    "eec.fit(X_train, y_train)\n",
    "\n",
    "# predict\n",
    "y_pred = eec.predict(X_test)\n",
    "print('Matrix confusion : \\n',confusion_matrix(y_test, y_pred))\n",
    "print('\\n Classification report : \\n',classification_report(y_test, y_pred))"
   ]
  },
  {
   "cell_type": "code",
   "execution_count": 7,
   "metadata": {},
   "outputs": [
    {
     "name": "stdout",
     "output_type": "stream",
     "text": [
      "Matrix confusion : \n",
      " [[18986   111]\n",
      " [    0    36]]\n",
      "\n",
      " Classification report : \n",
      "               precision    recall  f1-score   support\n",
      "\n",
      "           0       1.00      0.99      1.00     19097\n",
      "           1       0.24      1.00      0.39        36\n",
      "\n",
      "    accuracy                           0.99     19133\n",
      "   macro avg       0.62      1.00      0.70     19133\n",
      "weighted avg       1.00      0.99      1.00     19133\n",
      "\n"
     ]
    }
   ],
   "source": [
    "\n",
    "# create model\n",
    "eec_GBC = EasyEnsembleClassifier(n_estimators=40, estimator=GradientBoostingClassifier(), sampling_strategy=0.25 , random_state=42, n_jobs=-1, verbose=0 )\n",
    "eec_GBC.fit(X_train, y_train)\n",
    "\n",
    "# predict\n",
    "y_pred = eec_GBC.predict(X_test)\n",
    "print('Matrix confusion : \\n',confusion_matrix(y_test, y_pred))\n",
    "print('\\n Classification report : \\n',classification_report(y_test, y_pred))"
   ]
  },
  {
   "cell_type": "code",
   "execution_count": 8,
   "metadata": {},
   "outputs": [
    {
     "name": "stdout",
     "output_type": "stream",
     "text": [
      "Matrix confusion : \n",
      " [[19072    25]\n",
      " [    0    36]]\n",
      "\n",
      " Classification report : \n",
      "               precision    recall  f1-score   support\n",
      "\n",
      "           0       1.00      1.00      1.00     19097\n",
      "           1       0.59      1.00      0.74        36\n",
      "\n",
      "    accuracy                           1.00     19133\n",
      "   macro avg       0.80      1.00      0.87     19133\n",
      "weighted avg       1.00      1.00      1.00     19133\n",
      "\n"
     ]
    }
   ],
   "source": [
    "from sklearn.ensemble import RandomForestClassifier\n",
    "# create model\n",
    "rfc = EasyEnsembleClassifier(n_estimators=5, estimator=RandomForestClassifier(), sampling_strategy=0.05 , random_state=42, n_jobs=-1, verbose=0 )\n",
    "rfc.fit(X_train, y_train)\n",
    "\n",
    "# predict\n",
    "y_pred = rfc.predict(X_test)\n",
    "print('Matrix confusion : \\n',confusion_matrix(y_test, y_pred))\n",
    "print('\\n Classification report : \\n',classification_report(y_test, y_pred))"
   ]
  },
  {
   "cell_type": "code",
   "execution_count": 9,
   "metadata": {},
   "outputs": [
    {
     "name": "stdout",
     "output_type": "stream",
     "text": [
      "Matrix confusion : \n",
      " [[18990   107]\n",
      " [    0    36]]\n",
      "\n",
      " Classification report : \n",
      "               precision    recall  f1-score   support\n",
      "\n",
      "           0       1.00      0.99      1.00     19097\n",
      "           1       0.25      1.00      0.40        36\n",
      "\n",
      "    accuracy                           0.99     19133\n",
      "   macro avg       0.63      1.00      0.70     19133\n",
      "weighted avg       1.00      0.99      1.00     19133\n",
      "\n"
     ]
    }
   ],
   "source": [
    "from sklearn.ensemble import VotingClassifier\n",
    "\n",
    "# create model\n",
    "vc = VotingClassifier(estimators=[('eec', eec), ('rfc_und_over', rfc), ('eec_GBC',eec_GBC)], voting='hard')\n",
    "vc.fit(X_train, y_train)\n",
    "\n",
    "# predict\n",
    "y_pred = vc.predict(X_test)\n",
    "print('Matrix confusion : \\n',confusion_matrix(y_test, y_pred))\n",
    "print('\\n Classification report : \\n',classification_report(y_test, y_pred))\n"
   ]
  },
  {
   "cell_type": "code",
   "execution_count": 10,
   "metadata": {},
   "outputs": [
    {
     "name": "stdout",
     "output_type": "stream",
     "text": [
      "Matrix confusion : \n",
      " [[19006    91]\n",
      " [    0    36]]\n",
      "\n",
      " Classification report : \n",
      "               precision    recall  f1-score   support\n",
      "\n",
      "           0       1.00      1.00      1.00     19097\n",
      "           1       0.28      1.00      0.44        36\n",
      "\n",
      "    accuracy                           1.00     19133\n",
      "   macro avg       0.64      1.00      0.72     19133\n",
      "weighted avg       1.00      1.00      1.00     19133\n",
      "\n"
     ]
    }
   ],
   "source": [
    "# create model\n",
    "eec = EasyEnsembleClassifier(n_estimators=20, estimator=AdaBoostClassifier(), sampling_strategy=0.25 , random_state=42, n_jobs=-1, verbose=0)\n",
    "eec.fit(X_train, y_train)\n",
    "\n",
    "# predict\n",
    "y_pred = eec.predict(X_test)\n",
    "print('Matrix confusion : \\n',confusion_matrix(y_test, y_pred))\n",
    "print('\\n Classification report : \\n',classification_report(y_test, y_pred))"
   ]
  },
  {
   "cell_type": "code",
   "execution_count": 11,
   "metadata": {},
   "outputs": [
    {
     "name": "stdout",
     "output_type": "stream",
     "text": [
      "Matrix confusion : \n",
      " [[19084    13]\n",
      " [    0    36]]\n",
      "\n",
      " Classification report : \n",
      "               precision    recall  f1-score   support\n",
      "\n",
      "           0       1.00      1.00      1.00     19097\n",
      "           1       0.73      1.00      0.85        36\n",
      "\n",
      "    accuracy                           1.00     19133\n",
      "   macro avg       0.87      1.00      0.92     19133\n",
      "weighted avg       1.00      1.00      1.00     19133\n",
      "\n"
     ]
    }
   ],
   "source": [
    "from sklearn.ensemble import RandomForestClassifier\n",
    "# create model\n",
    "rfc2 = EasyEnsembleClassifier(n_estimators=2, estimator=RandomForestClassifier(n_estimators=15 ), sampling_strategy=0.01, random_state=42, n_jobs=-1, verbose=0 )\n",
    "rfc2.fit(X_train, y_train)\n",
    "\n",
    "# predict\n",
    "y_pred = rfc2.predict(X_test)\n",
    "print('Matrix confusion : \\n',confusion_matrix(y_test, y_pred))\n",
    "print('\\n Classification report : \\n',classification_report(y_test, y_pred))"
   ]
  },
  {
   "attachments": {},
   "cell_type": "markdown",
   "metadata": {},
   "source": [
    "## 2. Undersampling and Oversampling\n",
    "a) Resample\n",
    "- SMOTEENN : SMOTENC (Categorical and numerical features)+ ENN\n",
    "\n",
    "\n",
    "\n",
    "..."
   ]
  },
  {
   "attachments": {},
   "cell_type": "markdown",
   "metadata": {},
   "source": []
  },
  {
   "cell_type": "code",
   "execution_count": 12,
   "metadata": {},
   "outputs": [
    {
     "data": {
      "text/plain": [
       "(76529, 15)"
      ]
     },
     "execution_count": 12,
     "metadata": {},
     "output_type": "execute_result"
    }
   ],
   "source": [
    "X_train.shape"
   ]
  },
  {
   "cell_type": "code",
   "execution_count": 13,
   "metadata": {},
   "outputs": [],
   "source": [
    "#import SMOTENC \n",
    "from imblearn.over_sampling import SMOTENC\n",
    "#import ENN\n",
    "from imblearn.under_sampling import EditedNearestNeighbours\n",
    "\n",
    "#import SMOTEENN\n",
    "from imblearn.combine import SMOTEENN\n",
    "\n",
    "# create model of over and under sampling : SMOTENC and ENN\n",
    "# categorical features : 'AccountId','SubscriptionId','CustomerId', 'ProductId','PricingStrategy','ProductCategory_airtime','ProductCategory_data_bundles','ProductCategory_financial_services','ProductCategory_movies','ProductCategory_other','ProductCategory_ticket','ProductCategory_transport','ProductCategory_tv','ProductCategory_utility_bill','ChannelId_1','ChannelId_2','ChannelId_3','ChannelId_5','ProviderId_1','ProviderId_2','ProviderId_3','ProviderId_4','ProviderId_5','ProviderId_6','Hour_1','Hour_2','Hour_3','Hour_4'\n",
    "#smotenc= SMOTENC(categorical_features=['AccountId','SubscriptionId','CustomerId', 'ProductId','PricingStrategy','ProductCategory_airtime','ProductCategory_data_bundles','ProductCategory_financial_services','ProductCategory_movies','ProductCategory_other','ProductCategory_ticket','ProductCategory_transport','ProductCategory_tv','ProductCategory_utility_bill','ChannelId_1','ChannelId_2','ChannelId_3','ChannelId_5','ProviderId_1','ProviderId_2','ProviderId_3','ProviderId_4','ProviderId_5','ProviderId_6','Hour_1','Hour_2','Hour_3','Hour_4'], random_state=42)\n",
    "#smotenc= SMOTENC(categorical_features=[0,1,2,3,5,6,7,8,9,10,11,12,13,14,15,16,17,18,19,20,21,23,24,25,26,27,28])\n",
    "\n",
    "# smotenc= SMOTENC(categorical_features=[ 'ProviderId_3', 'ProviderId_5', 'ProviderId_1', 'ProductCategory_utility_bill', 'ProductCategory_financial_services', \n",
    "#                                        'ChannelId_3', 'Hour_3', 'Hour_4', 'ChannelId_1', 'PricingStrategy_4', 'SubscriptionId', 'ProductCategory_transport', \n",
    "#                                        'AccountId', 'PricingStrategy_0'])\n",
    "\n",
    "\n",
    "smotenc= SMOTENC(categorical_features=[1, 2, 3, 4, 5, 6, 7, 8, 9, 10,11,12,13, 14])\n",
    "\n",
    "enn_model = EditedNearestNeighbours(sampling_strategy=\"auto\", n_neighbors=3, kind_sel='all',n_jobs=-1)\n",
    "\n",
    "smotenc_enn = SMOTEENN(sampling_strategy='not minority', smote=smotenc, enn=enn_model, n_jobs=-1)\n",
    "\n",
    "\n"
   ]
  },
  {
   "cell_type": "code",
   "execution_count": 14,
   "metadata": {},
   "outputs": [],
   "source": [
    "#X_resampled_enn, y_resampled_enn = enn_model.fit_resample(X_train, y_train)"
   ]
  },
  {
   "cell_type": "code",
   "execution_count": 15,
   "metadata": {},
   "outputs": [],
   "source": [
    "# print ('Shape of undersampled data : ', y_resampled_enn.value_counts())"
   ]
  },
  {
   "cell_type": "code",
   "execution_count": 16,
   "metadata": {},
   "outputs": [],
   "source": [
    "#X_resampled_smotenc, y_resampled_smotenc = smotenc.fit_resample(X_train, y_train)\n",
    "#print('Number of fraud and not fraud cases in training data: \\n', y_resampled_smotenc.value_counts())"
   ]
  },
  {
   "cell_type": "code",
   "execution_count": 17,
   "metadata": {},
   "outputs": [],
   "source": [
    "#\n",
    "# create new X_resampled and y_resampled\n",
    "# X_resampled, y_resampled = smotenc_enn.fit_resample(X_train, y_train)\n",
    "\n",
    "# # find the number of fraud and non-fraud cases in the training data\n",
    "# print('Number of fraud and not fraud cases in training data: \\n', y_resampled.value_counts())"
   ]
  },
  {
   "attachments": {},
   "cell_type": "markdown",
   "metadata": {},
   "source": [
    "## 2. Undersampling and Oversampling\n",
    "a) Resample\n",
    "\n",
    "- RandomUnderSampler + SMOTEENN "
   ]
  },
  {
   "cell_type": "code",
   "execution_count": 18,
   "metadata": {},
   "outputs": [
    {
     "name": "stdout",
     "output_type": "stream",
     "text": [
      "0    76372\n",
      "1      157\n",
      "Name: Fraud, dtype: int64\n"
     ]
    }
   ],
   "source": [
    "print (y_train.value_counts())"
   ]
  },
  {
   "cell_type": "code",
   "execution_count": 19,
   "metadata": {},
   "outputs": [],
   "source": [
    "# import randomUnderSampler\n",
    "from imblearn.under_sampling import RandomUnderSampler\n",
    "\n",
    "# create model under sampling \n",
    "rus = RandomUnderSampler(sampling_strategy=0.04, random_state=42)"
   ]
  },
  {
   "cell_type": "code",
   "execution_count": 20,
   "metadata": {},
   "outputs": [],
   "source": [
    "# fit and resample data\n",
    "X_resampled_rus, y_resampled_rus = rus.fit_resample(X_train, y_train)"
   ]
  },
  {
   "cell_type": "code",
   "execution_count": 21,
   "metadata": {},
   "outputs": [
    {
     "name": "stdout",
     "output_type": "stream",
     "text": [
      "value count of undersampled data :  0    3925\n",
      "1     157\n",
      "Name: Fraud, dtype: int64\n",
      "Shape of undersampled data :  (4082, 15)\n"
     ]
    }
   ],
   "source": [
    "print ('value count of undersampled data : ', y_resampled_rus.value_counts())\n",
    "print ('Shape of undersampled data : ', X_resampled_rus.shape)"
   ]
  },
  {
   "cell_type": "code",
   "execution_count": 22,
   "metadata": {},
   "outputs": [],
   "source": [
    "# Oversampling with SMOTENC fit and resample data\n",
    "X_resampled_smotenc, y_resampled_smotenc = smotenc.fit_resample(X_resampled_rus, y_resampled_rus)"
   ]
  },
  {
   "cell_type": "code",
   "execution_count": 23,
   "metadata": {},
   "outputs": [
    {
     "name": "stdout",
     "output_type": "stream",
     "text": [
      "value count of undersampled data :  0    3925\n",
      "1    3925\n",
      "Name: Fraud, dtype: int64\n",
      "Shape of undersampled data :  (7850, 15)\n"
     ]
    }
   ],
   "source": [
    "print ('value count of undersampled data : ', y_resampled_smotenc.value_counts())\n",
    "print ('Shape of undersampled data : ', X_resampled_smotenc.shape)"
   ]
  },
  {
   "attachments": {},
   "cell_type": "markdown",
   "metadata": {},
   "source": [
    "## 2. Undersampling and Oversampling\n",
    "b) Model classifier\n",
    "- random forest classifier"
   ]
  },
  {
   "cell_type": "code",
   "execution_count": 24,
   "metadata": {},
   "outputs": [
    {
     "name": "stdout",
     "output_type": "stream",
     "text": [
      "Matrix confusion : \n",
      " [[19042    55]\n",
      " [    0    36]]\n",
      "\n",
      " Classification report : \n",
      "               precision    recall  f1-score   support\n",
      "\n",
      "           0       1.00      1.00      1.00     19097\n",
      "           1       0.40      1.00      0.57        36\n",
      "\n",
      "    accuracy                           1.00     19133\n",
      "   macro avg       0.70      1.00      0.78     19133\n",
      "weighted avg       1.00      1.00      1.00     19133\n",
      "\n"
     ]
    }
   ],
   "source": [
    "# create model random forest\n",
    "rfc_und_over = RandomForestClassifier(n_estimators=30, random_state=42, n_jobs=-1, verbose=0)\n",
    "\n",
    "# fit and predict\n",
    "rfc_und_over.fit(X_resampled_smotenc, y_resampled_smotenc)\n",
    "y_pred = rfc_und_over.predict(X_test)\n",
    "\n",
    "print('Matrix confusion : \\n',confusion_matrix(y_test, y_pred))\n",
    "print('\\n Classification report : \\n',classification_report(y_test, y_pred))\n"
   ]
  },
  {
   "attachments": {},
   "cell_type": "markdown",
   "metadata": {},
   "source": [
    "# II. Evaluation\n",
    "\n",
    "- Prediction on test set"
   ]
  },
  {
   "cell_type": "code",
   "execution_count": 25,
   "metadata": {},
   "outputs": [
    {
     "data": {
      "text/html": [
       "<div>\n",
       "<style scoped>\n",
       "    .dataframe tbody tr th:only-of-type {\n",
       "        vertical-align: middle;\n",
       "    }\n",
       "\n",
       "    .dataframe tbody tr th {\n",
       "        vertical-align: top;\n",
       "    }\n",
       "\n",
       "    .dataframe thead th {\n",
       "        text-align: right;\n",
       "    }\n",
       "</style>\n",
       "<table border=\"1\" class=\"dataframe\">\n",
       "  <thead>\n",
       "    <tr style=\"text-align: right;\">\n",
       "      <th></th>\n",
       "      <th>Value</th>\n",
       "      <th>ProviderId_3</th>\n",
       "      <th>ProviderId_5</th>\n",
       "      <th>ProviderId_1</th>\n",
       "      <th>ProductCategory_utility_bill</th>\n",
       "      <th>ProductCategory_financial_services</th>\n",
       "      <th>ChannelId_3</th>\n",
       "      <th>Hour_3</th>\n",
       "      <th>Hour_4</th>\n",
       "      <th>ChannelId_1</th>\n",
       "      <th>PricingStrategy_4</th>\n",
       "      <th>SubscriptionId</th>\n",
       "      <th>ProductCategory_transport</th>\n",
       "      <th>AccountId</th>\n",
       "      <th>PricingStrategy_0</th>\n",
       "    </tr>\n",
       "  </thead>\n",
       "  <tbody>\n",
       "    <tr>\n",
       "      <th>0</th>\n",
       "      <td>1000</td>\n",
       "      <td>0</td>\n",
       "      <td>1</td>\n",
       "      <td>0</td>\n",
       "      <td>0</td>\n",
       "      <td>0</td>\n",
       "      <td>1</td>\n",
       "      <td>0</td>\n",
       "      <td>0</td>\n",
       "      <td>0</td>\n",
       "      <td>1</td>\n",
       "      <td>4426</td>\n",
       "      <td>0</td>\n",
       "      <td>2441</td>\n",
       "      <td>0</td>\n",
       "    </tr>\n",
       "    <tr>\n",
       "      <th>1</th>\n",
       "      <td>2000</td>\n",
       "      <td>0</td>\n",
       "      <td>1</td>\n",
       "      <td>0</td>\n",
       "      <td>0</td>\n",
       "      <td>1</td>\n",
       "      <td>1</td>\n",
       "      <td>0</td>\n",
       "      <td>0</td>\n",
       "      <td>0</td>\n",
       "      <td>0</td>\n",
       "      <td>2643</td>\n",
       "      <td>0</td>\n",
       "      <td>3439</td>\n",
       "      <td>0</td>\n",
       "    </tr>\n",
       "    <tr>\n",
       "      <th>2</th>\n",
       "      <td>50</td>\n",
       "      <td>0</td>\n",
       "      <td>0</td>\n",
       "      <td>0</td>\n",
       "      <td>0</td>\n",
       "      <td>1</td>\n",
       "      <td>0</td>\n",
       "      <td>0</td>\n",
       "      <td>0</td>\n",
       "      <td>0</td>\n",
       "      <td>0</td>\n",
       "      <td>3829</td>\n",
       "      <td>0</td>\n",
       "      <td>4841</td>\n",
       "      <td>0</td>\n",
       "    </tr>\n",
       "    <tr>\n",
       "      <th>3</th>\n",
       "      <td>3000</td>\n",
       "      <td>0</td>\n",
       "      <td>1</td>\n",
       "      <td>0</td>\n",
       "      <td>0</td>\n",
       "      <td>0</td>\n",
       "      <td>1</td>\n",
       "      <td>0</td>\n",
       "      <td>0</td>\n",
       "      <td>0</td>\n",
       "      <td>1</td>\n",
       "      <td>4626</td>\n",
       "      <td>0</td>\n",
       "      <td>2685</td>\n",
       "      <td>0</td>\n",
       "    </tr>\n",
       "    <tr>\n",
       "      <th>4</th>\n",
       "      <td>60</td>\n",
       "      <td>0</td>\n",
       "      <td>0</td>\n",
       "      <td>0</td>\n",
       "      <td>0</td>\n",
       "      <td>1</td>\n",
       "      <td>0</td>\n",
       "      <td>0</td>\n",
       "      <td>0</td>\n",
       "      <td>0</td>\n",
       "      <td>0</td>\n",
       "      <td>3829</td>\n",
       "      <td>0</td>\n",
       "      <td>4841</td>\n",
       "      <td>0</td>\n",
       "    </tr>\n",
       "  </tbody>\n",
       "</table>\n",
       "</div>"
      ],
      "text/plain": [
       "   Value  ProviderId_3  ProviderId_5  ProviderId_1  \\\n",
       "0   1000             0             1             0   \n",
       "1   2000             0             1             0   \n",
       "2     50             0             0             0   \n",
       "3   3000             0             1             0   \n",
       "4     60             0             0             0   \n",
       "\n",
       "   ProductCategory_utility_bill  ProductCategory_financial_services  \\\n",
       "0                             0                                   0   \n",
       "1                             0                                   1   \n",
       "2                             0                                   1   \n",
       "3                             0                                   0   \n",
       "4                             0                                   1   \n",
       "\n",
       "   ChannelId_3  Hour_3  Hour_4  ChannelId_1  PricingStrategy_4  \\\n",
       "0            1       0       0            0                  1   \n",
       "1            1       0       0            0                  0   \n",
       "2            0       0       0            0                  0   \n",
       "3            1       0       0            0                  1   \n",
       "4            0       0       0            0                  0   \n",
       "\n",
       "   SubscriptionId  ProductCategory_transport  AccountId  PricingStrategy_0  \n",
       "0            4426                          0       2441                  0  \n",
       "1            2643                          0       3439                  0  \n",
       "2            3829                          0       4841                  0  \n",
       "3            4626                          0       2685                  0  \n",
       "4            3829                          0       4841                  0  "
      ]
     },
     "execution_count": 25,
     "metadata": {},
     "output_type": "execute_result"
    }
   ],
   "source": [
    "#import Data\n",
    "\n",
    "df_test = pd.read_csv('../../Data/test_clean.csv')\n",
    "\n",
    "df_test.head()\n"
   ]
  },
  {
   "cell_type": "code",
   "execution_count": 26,
   "metadata": {},
   "outputs": [
    {
     "name": "stdout",
     "output_type": "stream",
     "text": [
      "(95662, 16)\n",
      "Index(['Value', 'ProviderId_3', 'ProviderId_5', 'ProviderId_1',\n",
      "       'ProductCategory_utility_bill', 'ProductCategory_financial_services',\n",
      "       'ChannelId_3', 'Hour_3', 'Hour_4', 'ChannelId_1', 'PricingStrategy_4',\n",
      "       'SubscriptionId', 'ProductCategory_transport', 'AccountId',\n",
      "       'PricingStrategy_0', 'Fraud'],\n",
      "      dtype='object')\n",
      "(45019, 15)\n",
      "Index(['Value', 'ProviderId_3', 'ProviderId_5', 'ProviderId_1',\n",
      "       'ProductCategory_utility_bill', 'ProductCategory_financial_services',\n",
      "       'ChannelId_3', 'Hour_3', 'Hour_4', 'ChannelId_1', 'PricingStrategy_4',\n",
      "       'SubscriptionId', 'ProductCategory_transport', 'AccountId',\n",
      "       'PricingStrategy_0'],\n",
      "      dtype='object')\n"
     ]
    }
   ],
   "source": [
    "print(df.shape)\n",
    "print (df.columns)\n",
    "print(df_test.shape)\n",
    "print (df_test.columns)"
   ]
  },
  {
   "cell_type": "code",
   "execution_count": 27,
   "metadata": {},
   "outputs": [
    {
     "name": "stdout",
     "output_type": "stream",
     "text": [
      "[0 0 0 ... 0 0 0]\n",
      "fraud with y_pred_rfc : 260\n",
      "fraud y_pred_EEC_rfc2: 102\n"
     ]
    }
   ],
   "source": [
    "y_pred_EEC_rfc2=rfc2.predict(df_test)\n",
    "#print (y_pred.value_counts())\n",
    "\n",
    "y_pred_rfc=rfc_und_over.predict(df_test)\n",
    "\n",
    "# show amount of values in y_pred\n",
    "print (y_pred_rfc)\n",
    "#print (y_pred.value_counts())\n",
    "# count the number of values '1' in y_pred\n",
    "print (\"fraud with y_pred_rfc :\", np.count_nonzero(y_pred_rfc == 1))\n",
    "print (\"fraud y_pred_EEC_rfc2:\", np.count_nonzero(y_pred_EEC_rfc2 == 1))"
   ]
  },
  {
   "cell_type": "markdown",
   "metadata": {},
   "source": []
  },
  {
   "cell_type": "code",
   "execution_count": 30,
   "metadata": {},
   "outputs": [],
   "source": [
    "# create submission file\n",
    "df_test = pd.read_csv('../../Data/test.csv')\n",
    "\n",
    "sample_submission = pd.DataFrame(df_test['TransactionId'])\n",
    "sample_submission['FraudResult'] = y_pred_rfc\n",
    "\n"
   ]
  },
  {
   "attachments": {},
   "cell_type": "markdown",
   "metadata": {},
   "source": [
    "# submission files"
   ]
  },
  {
   "cell_type": "code",
   "execution_count": 31,
   "metadata": {},
   "outputs": [],
   "source": [
    "# export submission file\n",
    "sample_submission.to_csv('../../Data/submission_rfc.csv', index=False)\n",
    "\n"
   ]
  }
 ],
 "metadata": {
  "kernelspec": {
   "display_name": "base",
   "language": "python",
   "name": "python3"
  },
  "language_info": {
   "codemirror_mode": {
    "name": "ipython",
    "version": 3
   },
   "file_extension": ".py",
   "mimetype": "text/x-python",
   "name": "python",
   "nbconvert_exporter": "python",
   "pygments_lexer": "ipython3",
   "version": "3.9.16"
  },
  "orig_nbformat": 4
 },
 "nbformat": 4,
 "nbformat_minor": 2
}
