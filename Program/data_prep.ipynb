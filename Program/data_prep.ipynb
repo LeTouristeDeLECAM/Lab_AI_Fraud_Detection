{
 "cells": [
  {
   "attachments": {},
   "cell_type": "markdown",
   "metadata": {},
   "source": [
    "# Data Prep"
   ]
  },
  {
   "attachments": {},
   "cell_type": "markdown",
   "metadata": {},
   "source": [
    "### Libraries"
   ]
  },
  {
   "cell_type": "code",
   "execution_count": 1,
   "metadata": {},
   "outputs": [],
   "source": [
    "import matplotlib.pyplot as plt\n",
    "import seaborn as sns\n",
    "import pandas as pd\n",
    "import numpy as np\n",
    "\n",
    "from sklearn.preprocessing import StandardScaler\n",
    "from sklearn.model_selection import train_test_split\n",
    "from sklearn.ensemble import ExtraTreesClassifier\n",
    "from sklearn.linear_model import LogisticRegression\n",
    "#from sklearn.feature_selection import SelectKBest\n",
    "#from sklearn.feature_selection import chi2\n",
    "from sklearn.decomposition import PCA"
   ]
  },
  {
   "attachments": {},
   "cell_type": "markdown",
   "metadata": {},
   "source": [
    "### Training data import"
   ]
  },
  {
   "cell_type": "code",
   "execution_count": 2,
   "metadata": {},
   "outputs": [
    {
     "name": "stdout",
     "output_type": "stream",
     "text": [
      "shape of df : (95662, 16)\n"
     ]
    }
   ],
   "source": [
    "df= pd.read_csv('../../Data/training.csv')\n",
    "print ('shape of df :' ,  df.shape)"
   ]
  },
  {
   "attachments": {},
   "cell_type": "markdown",
   "metadata": {},
   "source": [
    "### Cleaning"
   ]
  },
  {
   "cell_type": "code",
   "execution_count": 3,
   "metadata": {},
   "outputs": [],
   "source": [
    "# Text removal from cells\n",
    "df['AccountId'] = df['AccountId'].str.split('_').str[1]\n",
    "df['BatchId'] = df['BatchId'].str.split('_').str[1]\n",
    "df['SubscriptionId'] = df['SubscriptionId'].str.split('_').str[1]\n",
    "df['CustomerId'] = df['CustomerId'].str.split('_').str[1]\n",
    "df['ProviderId'] = df['ProviderId'].str.split('_').str[1]\n",
    "df['ProductId'] = df['ProductId'].str.split('_').str[1]\n",
    "df['ChannelId'] = df['ChannelId'].str.split('_').str[1]"
   ]
  },
  {
   "cell_type": "code",
   "execution_count": 4,
   "metadata": {},
   "outputs": [],
   "source": [
    "# Drop the columns that are not needed\n",
    "useless_cols = ['CurrencyCode', \n",
    "         'CustomerId', # change if needed\n",
    "         'CountryCode', \n",
    "         'TransactionId', \n",
    "         'Amount']\n",
    "\n",
    "df.drop(useless_cols, axis=1, inplace=True)"
   ]
  },
  {
   "attachments": {},
   "cell_type": "markdown",
   "metadata": {},
   "source": [
    "### Features transform"
   ]
  },
  {
   "cell_type": "code",
   "execution_count": 5,
   "metadata": {},
   "outputs": [],
   "source": [
    "# Isolate Date and Time\n",
    "df['TransactionStartTime'] = pd.to_datetime(df['TransactionStartTime'])\n",
    "df['Hour'] = df['TransactionStartTime'].dt.time\n",
    "df.drop(['TransactionStartTime'], axis=1, inplace=True)\n",
    "\n",
    "# Convert Time to int & only keep the hour, no minutes\n",
    "df['Hour'] = df['Hour'].astype(str).str[:2].astype(int)\n",
    "\n",
    "# Convert time into 4 categories; 4-11, 12-13, 14-19, 20-3\n",
    "df['Hour'] = df['Hour'].apply(lambda x: 25 if x in range(0,4) else x)\n",
    "df['Hour'] = df['Hour'].apply(lambda x: 1 if x in range(4,12) else x) \n",
    "df['Hour'] = df['Hour'].apply(lambda x: 2 if x in range(14,20) else x)\n",
    "df['Hour'] = df['Hour'].apply(lambda x: 3 if x in range(12,14) else x)\n",
    "df['Hour'] = df['Hour'].apply(lambda x: 25 if x in range(20,24) else x)\n",
    "df['Hour'] = df['Hour'].apply(lambda x: 4 if x == 25 else x)"
   ]
  },
  {
   "cell_type": "code",
   "execution_count": 6,
   "metadata": {},
   "outputs": [
    {
     "name": "stdout",
     "output_type": "stream",
     "text": [
      "\n",
      " ---------------- \n",
      " Shape \n",
      " (95662, 11)\n"
     ]
    }
   ],
   "source": [
    "print ('\\n ---------------- \\n Shape \\n',df.shape)"
   ]
  },
  {
   "attachments": {},
   "cell_type": "markdown",
   "metadata": {},
   "source": [
    "### Hot One Encoding"
   ]
  },
  {
   "cell_type": "code",
   "execution_count": 7,
   "metadata": {},
   "outputs": [],
   "source": [
    "df = pd.get_dummies(df, columns=['ProductCategory'])\n",
    "df = pd.get_dummies(df, columns=['ChannelId'])\n",
    "df = pd.get_dummies(df, columns=['ProviderId'])\n",
    "df = pd.get_dummies(df, columns=['PricingStrategy'])\n",
    "df = pd.get_dummies(df, columns=['Hour'])"
   ]
  },
  {
   "attachments": {},
   "cell_type": "markdown",
   "metadata": {},
   "source": [
    "### Move Fraud result to the end of dataframe"
   ]
  },
  {
   "cell_type": "code",
   "execution_count": 8,
   "metadata": {},
   "outputs": [],
   "source": [
    "df['Fraud'] = df['FraudResult']\n",
    "df.drop(['FraudResult'], axis=1, inplace=True)"
   ]
  },
  {
   "attachments": {},
   "cell_type": "markdown",
   "metadata": {},
   "source": []
  },
  {
   "attachments": {},
   "cell_type": "markdown",
   "metadata": {},
   "source": [
    "### Features engineering"
   ]
  },
  {
   "attachments": {},
   "cell_type": "markdown",
   "metadata": {},
   "source": [
    "##### Importance using logistic regression\n",
    "- Larger coeff -> more influence etither positive/negative values\n",
    "- logistic regression is suitable for classification\n",
    "- the data needs to be  scaled"
   ]
  },
  {
   "cell_type": "code",
   "execution_count": 9,
   "metadata": {},
   "outputs": [
    {
     "data": {
      "image/png": "[encoded data removed]",
      "text/plain": [
       "<Figure size 432x288 with 1 Axes>"
      ]
     },
     "metadata": {
      "needs_background": "light"
     },
     "output_type": "display_data"
    }
   ],
   "source": [
    "model = LogisticRegression()\n",
    "\n",
    "X = df.drop(['Fraud'], axis=1)\n",
    "y = df['Fraud']\n",
    "\n",
    "ss = StandardScaler()\n",
    "X__scaled = ss.fit_transform(X)\n",
    "\n",
    "model.fit(X__scaled, y)\n",
    "\n",
    "importances = pd.DataFrame(data={'Attribute': X.columns,'Importance': model.coef_[0]})\n",
    "importances = importances.sort_values(by='Importance', ascending=False)\n",
    "\n",
    "plt.bar(x=importances['Attribute'], height=importances['Importance'])\n",
    "plt.title('Feature importances obtained from coefficients using logistic regression', size=10)\n",
    "plt.xticks(rotation='vertical')\n",
    "plt.show()"
   ]
  },
  {
   "cell_type": "code",
   "execution_count": 10,
   "metadata": {},
   "outputs": [
    {
     "name": "stdout",
     "output_type": "stream",
     "text": [
      "32 features, 15 most important are:\n"
     ]
    },
    {
     "data": {
      "text/html": [
       "<div>\n",
       "<style scoped>\n",
       "    .dataframe tbody tr th:only-of-type {\n",
       "        vertical-align: middle;\n",
       "    }\n",
       "\n",
       "    .dataframe tbody tr th {\n",
       "        vertical-align: top;\n",
       "    }\n",
       "\n",
       "    .dataframe thead th {\n",
       "        text-align: right;\n",
       "    }\n",
       "</style>\n",
       "<table border=\"1\" class=\"dataframe\">\n",
       "  <thead>\n",
       "    <tr style=\"text-align: right;\">\n",
       "      <th></th>\n",
       "      <th>Attribute</th>\n",
       "      <th>Importance</th>\n",
       "    </tr>\n",
       "  </thead>\n",
       "  <tbody>\n",
       "    <tr>\n",
       "      <th>4</th>\n",
       "      <td>Value</td>\n",
       "      <td>0.669972</td>\n",
       "    </tr>\n",
       "    <tr>\n",
       "      <th>20</th>\n",
       "      <td>ProviderId_3</td>\n",
       "      <td>0.604002</td>\n",
       "    </tr>\n",
       "    <tr>\n",
       "      <th>22</th>\n",
       "      <td>ProviderId_5</td>\n",
       "      <td>0.505009</td>\n",
       "    </tr>\n",
       "    <tr>\n",
       "      <th>18</th>\n",
       "      <td>ProviderId_1</td>\n",
       "      <td>0.371593</td>\n",
       "    </tr>\n",
       "    <tr>\n",
       "      <th>13</th>\n",
       "      <td>ProductCategory_utility_bill</td>\n",
       "      <td>0.284851</td>\n",
       "    </tr>\n",
       "    <tr>\n",
       "      <th>7</th>\n",
       "      <td>ProductCategory_financial_services</td>\n",
       "      <td>0.273339</td>\n",
       "    </tr>\n",
       "    <tr>\n",
       "      <th>16</th>\n",
       "      <td>ChannelId_3</td>\n",
       "      <td>0.229452</td>\n",
       "    </tr>\n",
       "    <tr>\n",
       "      <th>30</th>\n",
       "      <td>Hour_3</td>\n",
       "      <td>0.157197</td>\n",
       "    </tr>\n",
       "    <tr>\n",
       "      <th>31</th>\n",
       "      <td>Hour_4</td>\n",
       "      <td>0.127462</td>\n",
       "    </tr>\n",
       "    <tr>\n",
       "      <th>14</th>\n",
       "      <td>ChannelId_1</td>\n",
       "      <td>0.090762</td>\n",
       "    </tr>\n",
       "    <tr>\n",
       "      <th>27</th>\n",
       "      <td>PricingStrategy_4</td>\n",
       "      <td>0.087083</td>\n",
       "    </tr>\n",
       "    <tr>\n",
       "      <th>2</th>\n",
       "      <td>SubscriptionId</td>\n",
       "      <td>0.048229</td>\n",
       "    </tr>\n",
       "    <tr>\n",
       "      <th>11</th>\n",
       "      <td>ProductCategory_transport</td>\n",
       "      <td>0.040076</td>\n",
       "    </tr>\n",
       "    <tr>\n",
       "      <th>1</th>\n",
       "      <td>AccountId</td>\n",
       "      <td>0.030601</td>\n",
       "    </tr>\n",
       "    <tr>\n",
       "      <th>24</th>\n",
       "      <td>PricingStrategy_0</td>\n",
       "      <td>0.007077</td>\n",
       "    </tr>\n",
       "  </tbody>\n",
       "</table>\n",
       "</div>"
      ],
      "text/plain": [
       "                             Attribute  Importance\n",
       "4                                Value    0.669972\n",
       "20                        ProviderId_3    0.604002\n",
       "22                        ProviderId_5    0.505009\n",
       "18                        ProviderId_1    0.371593\n",
       "13        ProductCategory_utility_bill    0.284851\n",
       "7   ProductCategory_financial_services    0.273339\n",
       "16                         ChannelId_3    0.229452\n",
       "30                              Hour_3    0.157197\n",
       "31                              Hour_4    0.127462\n",
       "14                         ChannelId_1    0.090762\n",
       "27                   PricingStrategy_4    0.087083\n",
       "2                       SubscriptionId    0.048229\n",
       "11           ProductCategory_transport    0.040076\n",
       "1                            AccountId    0.030601\n",
       "24                   PricingStrategy_0    0.007077"
      ]
     },
     "execution_count": 10,
     "metadata": {},
     "output_type": "execute_result"
    }
   ],
   "source": [
    "\n",
    "print (len(importances), \"features, 15 most important are:\")\n",
    "# list 20 most important features\n",
    "importances.head(15)"
   ]
  },
  {
   "attachments": {},
   "cell_type": "markdown",
   "metadata": {},
   "source": [
    "### New Dataframe with features to keep"
   ]
  },
  {
   "cell_type": "code",
   "execution_count": 11,
   "metadata": {},
   "outputs": [],
   "source": [
    "# Creeate a list of features to keep\n",
    "features_to_keep = importances['Attribute'][:15].tolist()\n",
    "\n",
    "# Create a new dataframe with only the features to keep\n",
    "df = df[features_to_keep]\n",
    "# Add the target variable tto the dataframe\n",
    "df['Fraud'] = y\n",
    "# show dataframe\n",
    "df.head()\n",
    "df.to_csv('../../Data/training_clean.csv', index=False)"
   ]
  },
  {
   "attachments": {},
   "cell_type": "markdown",
   "metadata": {},
   "source": [
    "# Prep data for validation"
   ]
  },
  {
   "attachments": {},
   "cell_type": "markdown",
   "metadata": {},
   "source": [
    "### Test Data import"
   ]
  },
  {
   "cell_type": "code",
   "execution_count": 12,
   "metadata": {},
   "outputs": [
    {
     "name": "stdout",
     "output_type": "stream",
     "text": [
      "shape of df : (45019, 15)\n"
     ]
    }
   ],
   "source": [
    "df= pd.read_csv('../../Data/test.csv')\n",
    "print ('shape of df :' ,  df.shape)"
   ]
  },
  {
   "cell_type": "code",
   "execution_count": 13,
   "metadata": {},
   "outputs": [],
   "source": [
    "\n",
    "\n",
    "# apply the same changes to the test data\n",
    "# Text removal from cells\n",
    "df['AccountId'] = df['AccountId'].str.split('_').str[1]\n",
    "df['BatchId'] = df['BatchId'].str.split('_').str[1]\n",
    "df['SubscriptionId'] = df['SubscriptionId'].str.split('_').str[1]\n",
    "df['CustomerId'] = df['CustomerId'].str.split('_').str[1]\n",
    "df['ProviderId'] = df['ProviderId'].str.split('_').str[1]\n",
    "df['ProductId'] = df['ProductId'].str.split('_').str[1]\n",
    "df['ChannelId'] = df['ChannelId'].str.split('_').str[1]\n",
    "\n",
    "df.drop(useless_cols, axis=1, inplace=True)\n",
    "\n",
    "# Isolate Date and Time\n",
    "df['TransactionStartTime'] = pd.to_datetime(df['TransactionStartTime'])\n",
    "df['Hour'] = df['TransactionStartTime'].dt.time\n",
    "df.drop(['TransactionStartTime'], axis=1, inplace=True)\n",
    "\n",
    "# Convert Time to int & only keep the hour, no minutes\n",
    "df['Hour'] = df['Hour'].astype(str).str[:2].astype(int)\n",
    "\n",
    "# Convert time into 4 categories; 4-11, 12-13, 14-19, 20-3\n",
    "df['Hour'] = df['Hour'].apply(lambda x: 25 if x in range(0,4) else x)\n",
    "df['Hour'] = df['Hour'].apply(lambda x: 1 if x in range(4,12) else x) \n",
    "df['Hour'] = df['Hour'].apply(lambda x: 2 if x in range(14,20) else x)\n",
    "df['Hour'] = df['Hour'].apply(lambda x: 3 if x in range(12,14) else x)\n",
    "df['Hour'] = df['Hour'].apply(lambda x: 25 if x in range(20,24) else x)\n",
    "df['Hour'] = df['Hour'].apply(lambda x: 4 if x == 25 else x)\n",
    "\n",
    "df = pd.get_dummies(df, columns=['ProductCategory'])\n",
    "df = pd.get_dummies(df, columns=['ChannelId'])\n",
    "df = pd.get_dummies(df, columns=['ProviderId'])\n",
    "df = pd.get_dummies(df, columns=['PricingStrategy'])\n",
    "df = pd.get_dummies(df, columns=['Hour'])\n",
    "\n",
    "# Create a new dataframe with only the features to keep\n",
    "df = df[features_to_keep]\n",
    "# show dataframe\n",
    "df.head()\n",
    "\n",
    "# save the new dataframe to a csv file\n",
    "df.to_csv('../../Data/test_clean.csv', index=False)"
   ]
  },
  {
   "cell_type": "code",
   "execution_count": null,
   "metadata": {},
   "outputs": [],
   "source": []
  }
 ],
 "metadata": {
  "kernelspec": {
   "display_name": "base",
   "language": "python",
   "name": "python3"
  },
  "language_info": {
   "codemirror_mode": {
    "name": "ipython",
    "version": 3
   },
   "file_extension": ".py",
   "mimetype": "text/x-python",
   "name": "python",
   "nbconvert_exporter": "python",
   "pygments_lexer": "ipython3",
   "version": "3.7.11"
  },
  "orig_nbformat": 4
 },
 "nbformat": 4,
 "nbformat_minor": 2
}
