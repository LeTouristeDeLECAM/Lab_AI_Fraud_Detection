{
 "cells": [
  {
   "attachments": {},
   "cell_type": "markdown",
   "metadata": {},
   "source": [
    "# Testing different Model and validation of the model\n",
    "\n",
    "knearset neighbor \n",
    "\n",
    "Logistic Regression \n",
    "\n",
    "Random Forest \n",
    "\n",
    "Perceptron\n",
    "\n",
    "SVM"
   ]
  },
  {
   "cell_type": "code",
   "execution_count": 7,
   "metadata": {},
   "outputs": [],
   "source": [
    "# import \n",
    "import pandas as pd\n",
    "import numpy as np\n",
    "import matplotlib.pyplot as plt\n",
    "\n",
    "\n"
   ]
  },
  {
   "cell_type": "code",
   "execution_count": 10,
   "metadata": {},
   "outputs": [
    {
     "name": "stdout",
     "output_type": "stream",
     "text": [
      "   BatchId  AccountId  SubscriptionId  CustomerId  ProviderId  ProductId  \\\n",
      "0    36123       3957             887        4406           6         10   \n",
      "1    15642       4841            3829        4406           4          6   \n",
      "2    53941       4229             222        4683           6          1   \n",
      "3   102363        648            2185         988           1         21   \n",
      "4    38780       4841            3829         988           4          6   \n",
      "\n",
      "   ProductCategory  ChannelId   Amount  Value  TransactionStartTime  \\\n",
      "0              0.0          3   1000.0   1000                     2   \n",
      "1              2.0          2    -20.0     20                     2   \n",
      "2              0.0          3    500.0    500                     2   \n",
      "3              8.0          3  20000.0  21800                     3   \n",
      "4              2.0          2   -644.0    644                     3   \n",
      "\n",
      "   PricingStrategy  FraudResult  \n",
      "0                2            0  \n",
      "1                2            0  \n",
      "2                2            0  \n",
      "3                2            0  \n",
      "4                2            0  \n"
     ]
    }
   ],
   "source": [
    "# import data and split into train and test\n",
    "df = pd.read_csv('../../Data/cleaned_data.csv')\n",
    "\n",
    "print (df.head())\n",
    "\n",
    "# split into train and test\n",
    "from sklearn.model_selection import train_test_split\n",
    "X_train, X_test, y_train, y_test = train_test_split(df.drop('FraudResult',axis=1), df['FraudResult'], test_size=0.30, random_state=101)\n",
    "\n"
   ]
  },
  {
   "cell_type": "code",
   "execution_count": 15,
   "metadata": {},
   "outputs": [
    {
     "ename": "SyntaxError",
     "evalue": "invalid syntax (<ipython-input-15-92d4b37b0cbc>, line 8)",
     "output_type": "error",
     "traceback": [
      "\u001b[1;36m  File \u001b[1;32m\"<ipython-input-15-92d4b37b0cbc>\"\u001b[1;36m, line \u001b[1;32m8\u001b[0m\n\u001b[1;33m    layers.Dense(units=512,activation='relu'),\u001b[0m\n\u001b[1;37m         ^\u001b[0m\n\u001b[1;31mSyntaxError\u001b[0m\u001b[1;31m:\u001b[0m invalid syntax\n"
     ]
    }
   ],
   "source": [
    "from tensorflow import keras\n",
    "from tensorflow.keras import layers\n",
    "\n",
    "# Create a network with 1 hidden layer\n",
    "model = keras.Sequential(\n",
    "    [\n",
    "        layers.Dense(units=512,activation='relu',  input_shape=(X_train.shape[-1]-1))\n",
    "        layers.Dense(units=512,activation='relu'),\n",
    "        layers.Dense(units=512,activation='relu'),\n",
    "        layers.Dense(units=512,activation='relu'),\n",
    "        layers.Dense(1), \n",
    "\n",
    "\n",
    "    ]\n",
    ")"
   ]
  },
  {
   "cell_type": "code",
   "execution_count": null,
   "metadata": {},
   "outputs": [],
   "source": []
  }
 ],
 "metadata": {
  "kernelspec": {
   "display_name": "base",
   "language": "python",
   "name": "python3"
  },
  "language_info": {
   "codemirror_mode": {
    "name": "ipython",
    "version": 3
   },
   "file_extension": ".py",
   "mimetype": "text/x-python",
   "name": "python",
   "nbconvert_exporter": "python",
   "pygments_lexer": "ipython3",
   "version": "3.7.11"
  },
  "orig_nbformat": 4
 },
 "nbformat": 4,
 "nbformat_minor": 2
}
